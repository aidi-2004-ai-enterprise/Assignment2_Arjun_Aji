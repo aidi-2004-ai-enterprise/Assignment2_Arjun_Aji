{
  "nbformat": 4,
  "nbformat_minor": 0,
  "metadata": {
    "colab": {
      "provenance": []
    },
    "kernelspec": {
      "name": "python3",
      "display_name": "Python 3"
    },
    "language_info": {
      "name": "python"
    }
  },
  "cells": [
    {
      "cell_type": "code",
      "execution_count": 13,
      "metadata": {
        "colab": {
          "base_uri": "https://localhost:8080/"
        },
        "id": "6xoivE9cvV1c",
        "outputId": "7f7c68f9-e4e7-468b-a883-64145990cbce"
      },
      "outputs": [
        {
          "output_type": "stream",
          "name": "stdout",
          "text": [
            "Requirement already satisfied: xgboost in /usr/local/lib/python3.11/dist-packages (3.0.3)\n",
            "Requirement already satisfied: scikit-learn in /usr/local/lib/python3.11/dist-packages (1.6.1)\n",
            "Requirement already satisfied: pandas in /usr/local/lib/python3.11/dist-packages (2.2.2)\n",
            "Requirement already satisfied: pytest in /usr/local/lib/python3.11/dist-packages (8.4.1)\n",
            "Requirement already satisfied: pytest-cov in /usr/local/lib/python3.11/dist-packages (6.2.1)\n",
            "Requirement already satisfied: google-cloud-storage in /usr/local/lib/python3.11/dist-packages (2.19.0)\n",
            "Requirement already satisfied: numpy in /usr/local/lib/python3.11/dist-packages (from xgboost) (2.0.2)\n",
            "Requirement already satisfied: nvidia-nccl-cu12 in /usr/local/lib/python3.11/dist-packages (from xgboost) (2.23.4)\n",
            "Requirement already satisfied: scipy in /usr/local/lib/python3.11/dist-packages (from xgboost) (1.16.1)\n",
            "Requirement already satisfied: joblib>=1.2.0 in /usr/local/lib/python3.11/dist-packages (from scikit-learn) (1.5.1)\n",
            "Requirement already satisfied: threadpoolctl>=3.1.0 in /usr/local/lib/python3.11/dist-packages (from scikit-learn) (3.6.0)\n",
            "Requirement already satisfied: python-dateutil>=2.8.2 in /usr/local/lib/python3.11/dist-packages (from pandas) (2.9.0.post0)\n",
            "Requirement already satisfied: pytz>=2020.1 in /usr/local/lib/python3.11/dist-packages (from pandas) (2025.2)\n",
            "Requirement already satisfied: tzdata>=2022.7 in /usr/local/lib/python3.11/dist-packages (from pandas) (2025.2)\n",
            "Requirement already satisfied: iniconfig>=1 in /usr/local/lib/python3.11/dist-packages (from pytest) (2.1.0)\n",
            "Requirement already satisfied: packaging>=20 in /usr/local/lib/python3.11/dist-packages (from pytest) (25.0)\n",
            "Requirement already satisfied: pluggy<2,>=1.5 in /usr/local/lib/python3.11/dist-packages (from pytest) (1.6.0)\n",
            "Requirement already satisfied: pygments>=2.7.2 in /usr/local/lib/python3.11/dist-packages (from pytest) (2.19.2)\n",
            "Requirement already satisfied: coverage>=7.5 in /usr/local/lib/python3.11/dist-packages (from coverage[toml]>=7.5->pytest-cov) (7.10.2)\n",
            "Requirement already satisfied: google-auth<3.0dev,>=2.26.1 in /usr/local/lib/python3.11/dist-packages (from google-cloud-storage) (2.38.0)\n",
            "Requirement already satisfied: google-api-core<3.0.0dev,>=2.15.0 in /usr/local/lib/python3.11/dist-packages (from google-cloud-storage) (2.25.1)\n",
            "Requirement already satisfied: google-cloud-core<3.0dev,>=2.3.0 in /usr/local/lib/python3.11/dist-packages (from google-cloud-storage) (2.4.3)\n",
            "Requirement already satisfied: google-resumable-media>=2.7.2 in /usr/local/lib/python3.11/dist-packages (from google-cloud-storage) (2.7.2)\n",
            "Requirement already satisfied: requests<3.0.0dev,>=2.18.0 in /usr/local/lib/python3.11/dist-packages (from google-cloud-storage) (2.32.3)\n",
            "Requirement already satisfied: google-crc32c<2.0dev,>=1.0 in /usr/local/lib/python3.11/dist-packages (from google-cloud-storage) (1.7.1)\n",
            "Requirement already satisfied: googleapis-common-protos<2.0.0,>=1.56.2 in /usr/local/lib/python3.11/dist-packages (from google-api-core<3.0.0dev,>=2.15.0->google-cloud-storage) (1.70.0)\n",
            "Requirement already satisfied: protobuf!=3.20.0,!=3.20.1,!=4.21.0,!=4.21.1,!=4.21.2,!=4.21.3,!=4.21.4,!=4.21.5,<7.0.0,>=3.19.5 in /usr/local/lib/python3.11/dist-packages (from google-api-core<3.0.0dev,>=2.15.0->google-cloud-storage) (5.29.5)\n",
            "Requirement already satisfied: proto-plus<2.0.0,>=1.22.3 in /usr/local/lib/python3.11/dist-packages (from google-api-core<3.0.0dev,>=2.15.0->google-cloud-storage) (1.26.1)\n",
            "Requirement already satisfied: cachetools<6.0,>=2.0.0 in /usr/local/lib/python3.11/dist-packages (from google-auth<3.0dev,>=2.26.1->google-cloud-storage) (5.5.2)\n",
            "Requirement already satisfied: pyasn1-modules>=0.2.1 in /usr/local/lib/python3.11/dist-packages (from google-auth<3.0dev,>=2.26.1->google-cloud-storage) (0.4.2)\n",
            "Requirement already satisfied: rsa<5,>=3.1.4 in /usr/local/lib/python3.11/dist-packages (from google-auth<3.0dev,>=2.26.1->google-cloud-storage) (4.9.1)\n",
            "Requirement already satisfied: six>=1.5 in /usr/local/lib/python3.11/dist-packages (from python-dateutil>=2.8.2->pandas) (1.17.0)\n",
            "Requirement already satisfied: charset-normalizer<4,>=2 in /usr/local/lib/python3.11/dist-packages (from requests<3.0.0dev,>=2.18.0->google-cloud-storage) (3.4.2)\n",
            "Requirement already satisfied: idna<4,>=2.5 in /usr/local/lib/python3.11/dist-packages (from requests<3.0.0dev,>=2.18.0->google-cloud-storage) (3.10)\n",
            "Requirement already satisfied: urllib3<3,>=1.21.1 in /usr/local/lib/python3.11/dist-packages (from requests<3.0.0dev,>=2.18.0->google-cloud-storage) (2.5.0)\n",
            "Requirement already satisfied: certifi>=2017.4.17 in /usr/local/lib/python3.11/dist-packages (from requests<3.0.0dev,>=2.18.0->google-cloud-storage) (2025.8.3)\n",
            "Requirement already satisfied: pyasn1<0.7.0,>=0.6.1 in /usr/local/lib/python3.11/dist-packages (from pyasn1-modules>=0.2.1->google-auth<3.0dev,>=2.26.1->google-cloud-storage) (0.6.1)\n",
            "Model trained and saved as penguin_model.json\n"
          ]
        },
        {
          "output_type": "stream",
          "name": "stderr",
          "text": [
            "/usr/local/lib/python3.11/dist-packages/xgboost/training.py:183: UserWarning: [18:13:51] WARNING: /workspace/src/learner.cc:738: \n",
            "Parameters: { \"use_label_encoder\" } are not used.\n",
            "\n",
            "  bst.update(dtrain, iteration=i, fobj=obj)\n"
          ]
        }
      ],
      "source": [
        "# Install required packages\n",
        "!pip install xgboost scikit-learn pandas pytest pytest-cov google-cloud-storage\n",
        "\n",
        "# Load dataset, train model, save as JSON\n",
        "import pandas as pd\n",
        "from sklearn.model_selection import train_test_split\n",
        "import xgboost as xgb\n",
        "from sklearn.preprocessing import LabelEncoder\n",
        "\n",
        "# Load penguins dataset (using seaborn for convenience)\n",
        "import seaborn as sns\n",
        "penguins = sns.load_dataset('penguins').dropna()\n",
        "\n",
        "# Prepare features and target\n",
        "X = penguins[['bill_length_mm', 'bill_depth_mm', 'flipper_length_mm', 'body_mass_g']]\n",
        "y = penguins['species']\n",
        "\n",
        "# Encode target\n",
        "le = LabelEncoder()\n",
        "y_enc = le.fit_transform(y)\n",
        "\n",
        "# Train-test split\n",
        "X_train, X_test, y_train, y_test = train_test_split(X, y_enc, test_size=0.2, random_state=42)\n",
        "\n",
        "# Train XGBoost classifier\n",
        "model = xgb.XGBClassifier(use_label_encoder=False, eval_metric='mlogloss')\n",
        "model.fit(X_train, y_train)\n",
        "\n",
        "# Save model to JSON file\n",
        "model.save_model(\"penguin_model.json\")\n",
        "\n",
        "print(\"Model trained and saved as penguin_model.json\")\n"
      ]
    },
    {
      "cell_type": "code",
      "source": [
        "# Authenticate with GCP in Colab\n",
        "from google.colab import auth\n",
        "auth.authenticate_user()\n",
        "\n",
        "# Set your bucket name and blob name\n",
        "GCS_BUCKET_NAME = \"arjunaji\"  # Replace with your bucket\n",
        "GCS_BLOB_NAME = \"penguin_model.json\"\n",
        "\n",
        "from google.cloud import storage\n",
        "\n",
        "def upload_to_gcs(bucket_name, source_file_name, destination_blob_name):\n",
        "    client = storage.Client()\n",
        "    bucket = client.bucket(bucket_name)\n",
        "    blob = bucket.blob(destination_blob_name)\n",
        "    blob.upload_from_filename(source_file_name)\n",
        "    print(f\"Uploaded {source_file_name} to gs://{bucket_name}/{destination_blob_name}\")\n",
        "\n",
        "upload_to_gcs(GCS_BUCKET_NAME, \"penguin_model.json\", GCS_BLOB_NAME)\n"
      ],
      "metadata": {
        "colab": {
          "base_uri": "https://localhost:8080/"
        },
        "id": "4Lj4-rrUvW25",
        "outputId": "61a80800-17f1-453a-971e-9905b8033ace"
      },
      "execution_count": 14,
      "outputs": [
        {
          "output_type": "stream",
          "name": "stdout",
          "text": [
            "Uploaded penguin_model.json to gs://arjunaji/penguin_model.json\n"
          ]
        }
      ]
    },
    {
      "cell_type": "code",
      "source": [
        "!pip install fastapi \"uvicorn[standard]\" pydantic\n",
        "\n",
        "from fastapi import FastAPI, HTTPException\n",
        "from pydantic import BaseModel, Field, validator\n",
        "import xgboost as xgb\n",
        "import numpy as np\n",
        "\n",
        "app = FastAPI()\n",
        "\n",
        "# Load model locally (simplified for Colab testing)\n",
        "model = xgb.XGBClassifier()\n",
        "model.load_model(\"penguin_model.json\")\n",
        "\n",
        "class PenguinFeatures(BaseModel):\n",
        "    bill_length_mm: float = Field(..., ge=0)\n",
        "    bill_depth_mm: float = Field(..., ge=0)\n",
        "    flipper_length_mm: float = Field(..., ge=0)\n",
        "    body_mass_g: float = Field(..., ge=0)\n",
        "\n",
        "    @validator('*')\n",
        "    def check_not_negative(cls, v):\n",
        "        if v < 0:\n",
        "            raise ValueError('Value must be non-negative')\n",
        "        return v\n",
        "\n",
        "@app.post(\"/predict\")\n",
        "def predict(features: PenguinFeatures):\n",
        "    data = np.array([[features.bill_length_mm,\n",
        "                      features.bill_depth_mm,\n",
        "                      features.flipper_length_mm,\n",
        "                      features.body_mass_g]])\n",
        "    pred = model.predict(data)[0]\n",
        "    return {\"prediction\": int(pred)}\n"
      ],
      "metadata": {
        "colab": {
          "base_uri": "https://localhost:8080/"
        },
        "id": "DAdCA6sK1wDa",
        "outputId": "52e15c93-2551-4cb9-962b-f08c92ae045d"
      },
      "execution_count": 15,
      "outputs": [
        {
          "output_type": "stream",
          "name": "stdout",
          "text": [
            "Requirement already satisfied: fastapi in /usr/local/lib/python3.11/dist-packages (0.116.1)\n",
            "Requirement already satisfied: pydantic in /usr/local/lib/python3.11/dist-packages (2.11.7)\n",
            "Requirement already satisfied: uvicorn[standard] in /usr/local/lib/python3.11/dist-packages (0.35.0)\n",
            "Requirement already satisfied: starlette<0.48.0,>=0.40.0 in /usr/local/lib/python3.11/dist-packages (from fastapi) (0.47.2)\n",
            "Requirement already satisfied: typing-extensions>=4.8.0 in /usr/local/lib/python3.11/dist-packages (from fastapi) (4.14.1)\n",
            "Requirement already satisfied: click>=7.0 in /usr/local/lib/python3.11/dist-packages (from uvicorn[standard]) (8.2.1)\n",
            "Requirement already satisfied: h11>=0.8 in /usr/local/lib/python3.11/dist-packages (from uvicorn[standard]) (0.16.0)\n",
            "Requirement already satisfied: httptools>=0.6.3 in /usr/local/lib/python3.11/dist-packages (from uvicorn[standard]) (0.6.4)\n",
            "Requirement already satisfied: python-dotenv>=0.13 in /usr/local/lib/python3.11/dist-packages (from uvicorn[standard]) (1.1.1)\n",
            "Requirement already satisfied: pyyaml>=5.1 in /usr/local/lib/python3.11/dist-packages (from uvicorn[standard]) (6.0.2)\n",
            "Requirement already satisfied: uvloop>=0.15.1 in /usr/local/lib/python3.11/dist-packages (from uvicorn[standard]) (0.21.0)\n",
            "Requirement already satisfied: watchfiles>=0.13 in /usr/local/lib/python3.11/dist-packages (from uvicorn[standard]) (1.1.0)\n",
            "Requirement already satisfied: websockets>=10.4 in /usr/local/lib/python3.11/dist-packages (from uvicorn[standard]) (15.0.1)\n",
            "Requirement already satisfied: annotated-types>=0.6.0 in /usr/local/lib/python3.11/dist-packages (from pydantic) (0.7.0)\n",
            "Requirement already satisfied: pydantic-core==2.33.2 in /usr/local/lib/python3.11/dist-packages (from pydantic) (2.33.2)\n",
            "Requirement already satisfied: typing-inspection>=0.4.0 in /usr/local/lib/python3.11/dist-packages (from pydantic) (0.4.1)\n",
            "Requirement already satisfied: anyio<5,>=3.6.2 in /usr/local/lib/python3.11/dist-packages (from starlette<0.48.0,>=0.40.0->fastapi) (4.10.0)\n",
            "Requirement already satisfied: idna>=2.8 in /usr/local/lib/python3.11/dist-packages (from anyio<5,>=3.6.2->starlette<0.48.0,>=0.40.0->fastapi) (3.10)\n",
            "Requirement already satisfied: sniffio>=1.1 in /usr/local/lib/python3.11/dist-packages (from anyio<5,>=3.6.2->starlette<0.48.0,>=0.40.0->fastapi) (1.3.1)\n"
          ]
        },
        {
          "output_type": "stream",
          "name": "stderr",
          "text": [
            "/tmp/ipython-input-457933273.py:20: PydanticDeprecatedSince20: Pydantic V1 style `@validator` validators are deprecated. You should migrate to Pydantic V2 style `@field_validator` validators, see the migration guide for more details. Deprecated in Pydantic V2.0 to be removed in V3.0. See Pydantic V2 Migration Guide at https://errors.pydantic.dev/2.11/migration/\n",
            "  @validator('*')\n"
          ]
        }
      ]
    },
    {
      "cell_type": "code",
      "source": [
        "%%writefile test_api.py\n",
        "from fastapi import FastAPI, HTTPException\n",
        "from pydantic import BaseModel, Field, validator\n",
        "import xgboost as xgb\n",
        "import numpy as np\n",
        "from fastapi.testclient import TestClient\n",
        "\n",
        "# Define the FastAPI app within the test file for testing purposes\n",
        "app = FastAPI()\n",
        "\n",
        "# Load model locally (simplified for Colab testing)\n",
        "# Make sure the model file 'penguin_model.json' exists in the same directory\n",
        "model = xgb.XGBClassifier()\n",
        "try:\n",
        "    model.load_model(\"penguin_model.json\")\n",
        "except xgb.core.XGBoostError:\n",
        "    # Handle case where model file might not be found during testing\n",
        "    print(\"Warning: penguin_model.json not found. Model loading skipped for tests.\")\n",
        "    model = None # Or a mock model if needed for tests that don't require loading\n",
        "\n",
        "class PenguinFeatures(BaseModel):\n",
        "    bill_length_mm: float = Field(..., ge=0)\n",
        "    bill_depth_mm: float = Field(..., ge=0)\n",
        "    flipper_length_mm: float = Field(..., ge=0)\n",
        "    body_mass_g: float = Field(..., ge=0)\n",
        "\n",
        "    @validator('*', pre=True) # Removed each_item=True\n",
        "    def check_not_negative(cls, v):\n",
        "        if isinstance(v, (int, float)) and v < 0:\n",
        "            raise ValueError('Value must be non-negative')\n",
        "        return v\n",
        "\n",
        "@app.post(\"/predict\")\n",
        "def predict(features: PenguinFeatures):\n",
        "    if model is None:\n",
        "        raise HTTPException(status_code=500, detail=\"Model not loaded\")\n",
        "    data = np.array([[features.bill_length_mm,\n",
        "                      features.bill_depth_mm,\n",
        "                      features.flipper_length_mm,\n",
        "                      features.body_mass_g]])\n",
        "    pred = model.predict(data)[0]\n",
        "    # Note: The original model output is a class index (0, 1, or 2).\n",
        "    # If you want to return the actual species name, you'll need the LabelEncoder\n",
        "    # or a mapping from index to species name available here as well.\n",
        "    # For simplicity, returning the index as an integer.\n",
        "    return {\"prediction\": int(pred)}\n",
        "\n",
        "\n",
        "client = TestClient(app)\n",
        "\n",
        "def test_predict_endpoint_valid_input():\n",
        "    sample_data = {\n",
        "        \"bill_length_mm\": 39.1,\n",
        "        \"bill_depth_mm\": 18.7,\n",
        "        \"flipper_length_mm\": 181,\n",
        "        \"body_mass_g\": 3750\n",
        "    }\n",
        "    response = client.post(\"/predict\", json=sample_data)\n",
        "    assert response.status_code == 200\n",
        "    assert \"prediction\" in response.json()\n",
        "    # You might want to add checks on the predicted value range (0, 1, or 2)\n",
        "\n",
        "def test_predict_endpoint_missing_field():\n",
        "    sample_data = {\n",
        "        \"bill_length_mm\": 39.1,\n",
        "        \"bill_depth_mm\": 18.7,\n",
        "        \"flipper_length_mm\": 181\n",
        "        # Missing body_mass_g\n",
        "    }\n",
        "    response = client.post(\"/predict\", json=sample_data)\n",
        "    assert response.status_code == 422\n",
        "\n",
        "def test_predict_endpoint_invalid_type():\n",
        "    sample_data = {\n",
        "        \"bill_length_mm\": \"invalid\",  # should be float\n",
        "        \"bill_depth_mm\": 18.7,\n",
        "        \"flipper_length_mm\": 181,\n",
        "        \"body_mass_g\": 3750\n",
        "    }\n",
        "    response = client.post(\"/predict\", json=sample_data)\n",
        "    assert response.status_code == 422\n",
        "\n",
        "def test_predict_endpoint_out_of_range():\n",
        "    sample_data = {\n",
        "        \"bill_length_mm\": 500,  # unrealistic but accepted if >=0\n",
        "        \"bill_depth_mm\": 18.7,\n",
        "        \"flipper_length_mm\": 181,\n",
        "        \"body_mass_g\": -50  # negative not allowed\n",
        "    }\n",
        "    response = client.post(\"/predict\", json=sample_data)\n",
        "    assert response.status_code == 422  # Validator catches negative value"
      ],
      "metadata": {
        "colab": {
          "base_uri": "https://localhost:8080/"
        },
        "id": "aLL82WlW11l9",
        "outputId": "6f82f3bd-965b-4b50-c212-c93b1dfa2128"
      },
      "execution_count": 21,
      "outputs": [
        {
          "output_type": "stream",
          "name": "stdout",
          "text": [
            "Overwriting test_api.py\n"
          ]
        }
      ]
    },
    {
      "cell_type": "code",
      "source": [
        "!pytest --cov=.\n"
      ],
      "metadata": {
        "colab": {
          "base_uri": "https://localhost:8080/"
        },
        "id": "W-4RXY5O15S6",
        "outputId": "4fd5699b-e503-47b0-e641-92b723137739"
      },
      "execution_count": 22,
      "outputs": [
        {
          "output_type": "stream",
          "name": "stdout",
          "text": [
            "\u001b[1m============================= test session starts ==============================\u001b[0m\n",
            "platform linux -- Python 3.11.13, pytest-8.4.1, pluggy-1.6.0\n",
            "rootdir: /content\n",
            "plugins: cov-6.2.1, typeguard-4.4.4, anyio-4.10.0, langsmith-0.4.12\n",
            "collected 4 items                                                              \u001b[0m\n",
            "\n",
            "test_api.py \u001b[32m.\u001b[0m\u001b[32m.\u001b[0m\u001b[32m.\u001b[0m\u001b[32m.\u001b[0m\u001b[32m                                                         [100%]\u001b[0m\n",
            "\n",
            "================================ tests coverage ================================\n",
            "_______________ coverage: platform linux, python 3.11.13-final-0 _______________\n",
            "\n",
            "Name          Stmts   Miss  Cover\n",
            "---------------------------------\n",
            "test_api.py      47      4    91%\n",
            "---------------------------------\n",
            "TOTAL            47      4    91%\n",
            "\u001b[32m============================== \u001b[32m\u001b[1m4 passed\u001b[0m\u001b[32m in 4.96s\u001b[0m\u001b[32m ===============================\u001b[0m\n"
          ]
        }
      ]
    },
    {
      "cell_type": "code",
      "source": [],
      "metadata": {
        "id": "RAkJMiPT180_"
      },
      "execution_count": null,
      "outputs": []
    }
  ]
}